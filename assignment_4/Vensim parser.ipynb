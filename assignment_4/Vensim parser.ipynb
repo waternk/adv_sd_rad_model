{
 "cells": [
  {
   "cell_type": "code",
   "execution_count": 3,
   "metadata": {
    "collapsed": false
   },
   "outputs": [
    {
     "name": "stdout",
     "output_type": "stream",
     "text": [
      "Stock [radicalized citizens]\n",
      "Stock [exposed citizens on internet]\n",
      "Stock [unexposed citizens on internet]\n",
      "Variable [exposure]\n",
      "Variable [with access to internet]\n",
      "Variable [with access to internet]\n",
      "Variable [with access to internet]\n",
      "Variable [deradicalization rate]\n",
      "Variable [deradicalization rate]\n",
      "Variable [deradicalization rate]\n",
      "Variable [exposure rate]\n",
      "Variable [exposure rate]\n",
      "Variable [exposure rate]\n",
      "Variable [persuasion rate]\n",
      "Variable [persuasion rate]\n",
      "Variable [persuasion rate]\n",
      "Variable [total population]\n",
      "Variable [total population]\n",
      "Variable [total population]\n",
      "Variable [FINAL TIME]\n",
      "Variable [FINAL TIME]\n",
      "Variable [FINAL TIME]\n",
      "Variable [INITIAL TIME]\n",
      "Variable [INITIAL TIME]\n",
      "Variable [INITIAL TIME]\n",
      "Variable [SAVEPER]\n",
      "Variable [SAVEPER]\n",
      "Variable [SAVEPER]\n",
      "Variable [TIME STEP]\n",
      "Variable [TIME STEP]\n",
      "Variable [TIME STEP]\n",
      "Flow [exposure, Stock [unexposed citizens on internet] => Stock [exposed citizens on internet]]\n",
      "Flow [persuasion, Stock [exposed citizens on internet] => Stock [radicalized citizens]]\n",
      "Flow [deradicalization, Stock [radicalized citizens] => Stock [exposed citizens on internet]]\n"
     ]
    }
   ],
   "source": [
    "from ElementParser import ElementParser\n",
    "\n",
    "parser = ElementParser('ASD_2.mdl')\n",
    "elements = parser.parse()\n",
    "\n",
    "for elem in elements:\n",
    "    print(elem)"
   ]
  }
 ],
 "metadata": {
  "anaconda-cloud": {},
  "kernelspec": {
   "display_name": "Python 2",
   "language": "python",
   "name": "python2"
  },
  "language_info": {
   "codemirror_mode": {
    "name": "ipython",
    "version": 2
   },
   "file_extension": ".py",
   "mimetype": "text/x-python",
   "name": "python",
   "nbconvert_exporter": "python",
   "pygments_lexer": "ipython2",
   "version": "2.7.13"
  }
 },
 "nbformat": 4,
 "nbformat_minor": 0
}

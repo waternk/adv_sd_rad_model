{
 "cells": [
  {
   "cell_type": "code",
   "execution_count": 17,
   "metadata": {
    "collapsed": true
   },
   "outputs": [],
   "source": [
    "import parsimonious"
   ]
  },
  {
   "cell_type": "code",
   "execution_count": 24,
   "metadata": {
    "collapsed": false
   },
   "outputs": [],
   "source": [
    "# Read in the model\n",
    "mdl_file = 'ASD_V2.mdl'\n",
    "\n",
    "with open(mdl_file, 'r') as in_file:\n",
    "        text = in_file.read()   \n",
    "\n",
    "file_str = text.replace('\\n', '')"
   ]
  },
  {
   "cell_type": "code",
   "execution_count": 20,
   "metadata": {
    "collapsed": false
   },
   "outputs": [],
   "source": [
    "file_structure_grammar = r\"\"\"\n",
    "file = encoding? (macro / main)+\n",
    "macro = \":MACRO:\" _ name _ \"(\" _ (name _ \",\"? _)+ _ \":\"? _ (name _ \",\"? _)* _ \")\" ~r\".+?(?=:END OF MACRO:)\" \":END OF MACRO:\"\n",
    "main = !\":MACRO:\" ~r\".+(?!:MACRO:)\"\n",
    "\n",
    "name = basic_id / escape_group\n",
    "basic_id = ~r\"[a-zA-Z][a-zA-Z0-9_\\s]*\"\n",
    "\n",
    "# between quotes, either escaped quote or character that is not a quote\n",
    "escape_group = \"\\\"\" ( \"\\\\\\\"\" / ~r\"[^\\\"]\" )* \"\\\"\"\n",
    "encoding = ~r\"\\{[^\\}]*\\}\"\n",
    "\n",
    "_ = ~r\"[\\s\\\\]*\"  # whitespace character\n",
    "\"\"\"  # the leading 'r' for 'raw' in this string is important for handling backslashes properly\n",
    "\n",
    "parser = parsimonious.Grammar(file_structure_grammar)\n",
    "tree = parser.parse(file_str)"
   ]
  },
  {
   "cell_type": "code",
   "execution_count": 21,
   "metadata": {
    "collapsed": true
   },
   "outputs": [],
   "source": [
    "# Get the file sections \n",
    "class FileParser(parsimonious.NodeVisitor):\n",
    "        def __init__(self, ast):\n",
    "            self.entries = []\n",
    "            self.visit(ast)\n",
    "\n",
    "        def visit_main(self, n, vc):\n",
    "            self.entries.append({'name': '_main_',\n",
    "                                 'params': [],\n",
    "                                 'returns': [],\n",
    "                                 'string': n.text.strip()})\n",
    "\n",
    "        def visit_macro(self, n, vc):\n",
    "            name = vc[2]\n",
    "            params = vc[6]\n",
    "            returns = vc[10]\n",
    "            text = vc[13]\n",
    "            self.entries.append({'name': name,\n",
    "                                 'params': [x.strip() for x in params.split(',')] if params else [],\n",
    "                                 'returns': [x.strip() for x in\n",
    "                                             returns.split(',')] if returns else [],\n",
    "                                 'string': text.strip()})\n",
    "\n",
    "        def generic_visit(self, n, vc):\n",
    "            return ''.join(filter(None, vc)) or n.text or ''\n",
    "        \n",
    "file_sections = FileParser(tree).entries"
   ]
  },
  {
   "cell_type": "code",
   "execution_count": null,
   "metadata": {
    "collapsed": true
   },
   "outputs": [],
   "source": [
    "def get_model_elements(model_str):\n",
    "    model_structure_grammar = r\"\"\"\n",
    "    model = (entry / section)+ sketch?\n",
    "    entry = element \"~\" element \"~\" element (\"~\" element)? \"|\"\n",
    "    section = element \"~\" element \"|\"\n",
    "    sketch = ~r\".*\"  #anything\n",
    "\n",
    "    # Either an escape group, or a character that is not tilde or pipe\n",
    "    element = (escape_group / ~r\"[^~|]\")*\n",
    "\n",
    "    # between quotes, either escaped quote or character that is not a quote\n",
    "    escape_group = \"\\\"\" ( \"\\\\\\\"\" / ~r\"[^\\\"]\" )* \"\\\"\"\n",
    "    \"\"\"\n",
    "    parser = parsimonious.Grammar(model_structure_grammar)\n",
    "    tree = parser.parse(model_str)\n",
    "    #print(tree)\n",
    "\n",
    "    class ModelParser(parsimonious.NodeVisitor):\n",
    "        def __init__(self, ast):\n",
    "            self.entries = []\n",
    "            self.visit(ast)\n",
    "\n",
    "        def visit_entry(self, n, vc):\n",
    "            self.entries.append({'eqn': vc[0].strip(),\n",
    "                                 'unit': vc[2].strip(),\n",
    "                                 'doc': vc[4].strip(),\n",
    "                                 'kind': 'entry'})\n",
    "\n",
    "        def visit_section(self, n, vc):\n",
    "            if vc[2].strip() != \"Simulation Control Parameters\":\n",
    "                self.entries.append({'eqn': '',\n",
    "                                     'unit': '',\n",
    "                                     'doc': vc[2].strip(),\n",
    "                                     'kind': 'section'})\n",
    "\n",
    "        def generic_visit(self, n, vc):\n",
    "            return ''.join(filter(None, vc)) or n.text or ''\n",
    "\n",
    "    return ModelParser(tree).entries"
   ]
  },
  {
   "cell_type": "code",
   "execution_count": null,
   "metadata": {
    "collapsed": true
   },
   "outputs": [],
   "source": [
    "def get_equation_components(equation_str):\n",
    "    component_structure_grammar = r\"\"\"\n",
    "    entry = component / subscript_definition / lookup_definition\n",
    "    component = name _ subscriptlist? _ \"=\" _ expression\n",
    "    subscript_definition = name _ \":\" _ subscript _ (\",\" _ subscript)*\n",
    "    lookup_definition = name _ &\"(\" _ expression  # uses lookahead assertion to capture whole group\n",
    "\n",
    "    name = basic_id / escape_group\n",
    "    subscriptlist = '[' _ subscript _ (\",\" _ subscript)* _ ']'\n",
    "    expression = ~r\".*\"  # expression could be anything, at this point.\n",
    "\n",
    "    subscript = basic_id / escape_group\n",
    "\n",
    "    basic_id = ~r\"[a-zA-Z][a-zA-Z0-9_\\s]*\"\n",
    "    escape_group = \"\\\"\" ( \"\\\\\\\"\" / ~r\"[^\\\"]\" )* \"\\\"\"\n",
    "    _ = ~r\"[\\s\\\\]*\"  # whitespace character\n",
    "    \"\"\"\n",
    "\n",
    "    # replace any amount of whitespace  with a single space\n",
    "    equation_str = equation_str.replace('\\\\t', ' ')\n",
    "    equation_str = re.sub(r\"\\s+\", ' ', equation_str)\n",
    "\n",
    "    parser = parsimonious.Grammar(component_structure_grammar)\n",
    "    tree = parser.parse(equation_str)\n",
    "    print(tree)\n",
    "\n",
    "    class ComponentParser(parsimonious.NodeVisitor):\n",
    "        def __init__(self, ast):\n",
    "            self.subscripts = []\n",
    "            self.real_name = None\n",
    "            self.expression = None\n",
    "            self.kind = None\n",
    "            self.visit(ast)\n",
    "\n",
    "        def visit_subscript_definition(self, n, vc):\n",
    "            self.kind = 'subdef'\n",
    "\n",
    "        def visit_lookup_definition(self, n, vc):\n",
    "            self.kind = 'lookup'\n",
    "\n",
    "        def visit_component(self, n, vc):\n",
    "            self.kind = 'component'\n",
    "\n",
    "        def visit_name(self, n, vc):\n",
    "            (name,) = vc\n",
    "            self.real_name = name.strip()\n",
    "\n",
    "        def visit_subscript(self, n, vc):\n",
    "            (subscript,) = vc\n",
    "            self.subscripts.append(subscript.strip())\n",
    "\n",
    "        def visit_expression(self, n, vc):\n",
    "            self.expression = n.text.strip()\n",
    "\n",
    "        def generic_visit(self, n, vc):\n",
    "            return ''.join(filter(None, vc)) or n.text\n",
    "\n",
    "        def visit__(self, n, vc):\n",
    "            return ' '\n",
    "\n",
    "    parse_object = ComponentParser(tree)\n",
    "\n",
    "    return {'real_name': parse_object.real_name,\n",
    "            'subs': parse_object.subscripts,\n",
    "            'expr': parse_object.expression,\n",
    "            'kind': parse_object.kind}\n"
   ]
  },
  {
   "cell_type": "code",
   "execution_count": 23,
   "metadata": {
    "collapsed": false
   },
   "outputs": [
    {
     "ename": "NameError",
     "evalue": "name 'get_equation_components' is not defined",
     "output_type": "error",
     "traceback": [
      "\u001b[0;31m---------------------------------------------------------------------------\u001b[0m",
      "\u001b[0;31mNameError\u001b[0m                                 Traceback (most recent call last)",
      "\u001b[0;32m<ipython-input-23-70dea6d6047e>\u001b[0m in \u001b[0;36m<module>\u001b[0;34m()\u001b[0m\n\u001b[1;32m      6\u001b[0m \u001b[0;32mfor\u001b[0m \u001b[0mentry\u001b[0m \u001b[0;32min\u001b[0m \u001b[0mmodel_elements\u001b[0m\u001b[0;34m:\u001b[0m\u001b[0;34m\u001b[0m\u001b[0m\n\u001b[1;32m      7\u001b[0m     \u001b[0;32mif\u001b[0m \u001b[0mentry\u001b[0m\u001b[0;34m[\u001b[0m\u001b[0;34m'kind'\u001b[0m\u001b[0;34m]\u001b[0m \u001b[0;34m==\u001b[0m \u001b[0;34m'entry'\u001b[0m\u001b[0;34m:\u001b[0m\u001b[0;34m\u001b[0m\u001b[0m\n\u001b[0;32m----> 8\u001b[0;31m         \u001b[0mentry\u001b[0m\u001b[0;34m.\u001b[0m\u001b[0mupdate\u001b[0m\u001b[0;34m(\u001b[0m\u001b[0mget_equation_components\u001b[0m\u001b[0;34m(\u001b[0m\u001b[0mentry\u001b[0m\u001b[0;34m[\u001b[0m\u001b[0;34m'eqn'\u001b[0m\u001b[0;34m]\u001b[0m\u001b[0;34m)\u001b[0m\u001b[0;34m)\u001b[0m\u001b[0;34m\u001b[0m\u001b[0m\n\u001b[0m",
      "\u001b[0;31mNameError\u001b[0m: name 'get_equation_components' is not defined"
     ]
    }
   ],
   "source": [
    "# Go through every file section and translate it\n",
    "for section in file_sections:\n",
    "    model_elements = get_model_elements(section['string'])\n",
    "    model_docstring = ''\n",
    "        \n",
    "for entry in model_elements:\n",
    "    if entry['kind'] == 'entry':\n",
    "        entry.update(get_equation_components(entry['eqn']))"
   ]
  },
  {
   "cell_type": "code",
   "execution_count": null,
   "metadata": {
    "collapsed": true
   },
   "outputs": [],
   "source": []
  }
 ],
 "metadata": {
  "anaconda-cloud": {},
  "kernelspec": {
   "display_name": "Python [Root]",
   "language": "python",
   "name": "Python [Root]"
  },
  "language_info": {
   "codemirror_mode": {
    "name": "ipython",
    "version": 3
   },
   "file_extension": ".py",
   "mimetype": "text/x-python",
   "name": "python",
   "nbconvert_exporter": "python",
   "pygments_lexer": "ipython3",
   "version": "3.5.2"
  }
 },
 "nbformat": 4,
 "nbformat_minor": 0
}

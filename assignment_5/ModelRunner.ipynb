{
 "cells": [
  {
   "cell_type": "code",
   "execution_count": 1,
   "metadata": {
    "collapsed": true
   },
   "outputs": [],
   "source": [
    "%matplotlib inline\n",
    "import pandas as pd\n",
    "import pysd"
   ]
  },
  {
   "cell_type": "code",
   "execution_count": 2,
   "metadata": {
    "collapsed": false
   },
   "outputs": [],
   "source": [
    "PySD_model = pysd.read_vensim('ASD_V2.mdl')\n",
    "#from IPython.display import Image\n",
    "#Image(filename='Radicalization.png')"
   ]
  },
  {
   "cell_type": "code",
   "execution_count": 3,
   "metadata": {
    "collapsed": false
   },
   "outputs": [
    {
     "data": {
      "text/html": [
       "<div>\n",
       "<table border=\"1\" class=\"dataframe\">\n",
       "  <thead>\n",
       "    <tr style=\"text-align: right;\">\n",
       "      <th></th>\n",
       "      <th>exposed citizens on internet</th>\n",
       "      <th>radicalized citizens</th>\n",
       "      <th>unexposed citizens on internet</th>\n",
       "    </tr>\n",
       "  </thead>\n",
       "  <tbody>\n",
       "    <tr>\n",
       "      <th>0.0000</th>\n",
       "      <td>0.000000e+00</td>\n",
       "      <td>6.555250e+06</td>\n",
       "      <td>6.555250e+08</td>\n",
       "    </tr>\n",
       "    <tr>\n",
       "      <th>0.0625</th>\n",
       "      <td>4.097031e+06</td>\n",
       "      <td>6.555250e+06</td>\n",
       "      <td>6.514280e+08</td>\n",
       "    </tr>\n",
       "    <tr>\n",
       "      <th>0.1250</th>\n",
       "      <td>8.168499e+06</td>\n",
       "      <td>6.555207e+06</td>\n",
       "      <td>6.473565e+08</td>\n",
       "    </tr>\n",
       "    <tr>\n",
       "      <th>0.1875</th>\n",
       "      <td>1.221456e+07</td>\n",
       "      <td>6.555122e+06</td>\n",
       "      <td>6.433106e+08</td>\n",
       "    </tr>\n",
       "    <tr>\n",
       "      <th>0.2500</th>\n",
       "      <td>1.623538e+07</td>\n",
       "      <td>6.554995e+06</td>\n",
       "      <td>6.392899e+08</td>\n",
       "    </tr>\n",
       "  </tbody>\n",
       "</table>\n",
       "</div>"
      ],
      "text/plain": [
       "        exposed citizens on internet  radicalized citizens  \\\n",
       "0.0000                  0.000000e+00          6.555250e+06   \n",
       "0.0625                  4.097031e+06          6.555250e+06   \n",
       "0.1250                  8.168499e+06          6.555207e+06   \n",
       "0.1875                  1.221456e+07          6.555122e+06   \n",
       "0.2500                  1.623538e+07          6.554995e+06   \n",
       "\n",
       "        unexposed citizens on internet  \n",
       "0.0000                    6.555250e+08  \n",
       "0.0625                    6.514280e+08  \n",
       "0.1250                    6.473565e+08  \n",
       "0.1875                    6.433106e+08  \n",
       "0.2500                    6.392899e+08  "
      ]
     },
     "execution_count": 3,
     "metadata": {},
     "output_type": "execute_result"
    }
   ],
   "source": [
    "values = PySD_model.run(return_columns=['unexposed citizens on internet','exposed citizens on internet' ,'radicalized citizens'])\n",
    "values.head()"
   ]
  },
  {
   "cell_type": "code",
   "execution_count": 4,
   "metadata": {
    "collapsed": false
   },
   "outputs": [
    {
     "data": {
      "text/html": [
       "<div>\n",
       "<table border=\"1\" class=\"dataframe\">\n",
       "  <thead>\n",
       "    <tr style=\"text-align: right;\">\n",
       "      <th></th>\n",
       "      <th>exposed citizens on internet</th>\n",
       "      <th>radicalized citizens</th>\n",
       "      <th>unexposed citizens on internet</th>\n",
       "      <th>total</th>\n",
       "    </tr>\n",
       "  </thead>\n",
       "  <tbody>\n",
       "    <tr>\n",
       "      <th>0.0000</th>\n",
       "      <td>0.000000e+00</td>\n",
       "      <td>6.555250e+06</td>\n",
       "      <td>6.555250e+08</td>\n",
       "      <td>662080250.0</td>\n",
       "    </tr>\n",
       "    <tr>\n",
       "      <th>0.0625</th>\n",
       "      <td>4.097031e+06</td>\n",
       "      <td>6.555250e+06</td>\n",
       "      <td>6.514280e+08</td>\n",
       "      <td>662080250.0</td>\n",
       "    </tr>\n",
       "    <tr>\n",
       "      <th>0.1250</th>\n",
       "      <td>8.168499e+06</td>\n",
       "      <td>6.555207e+06</td>\n",
       "      <td>6.473565e+08</td>\n",
       "      <td>662080250.0</td>\n",
       "    </tr>\n",
       "    <tr>\n",
       "      <th>0.1875</th>\n",
       "      <td>1.221456e+07</td>\n",
       "      <td>6.555122e+06</td>\n",
       "      <td>6.433106e+08</td>\n",
       "      <td>662080250.0</td>\n",
       "    </tr>\n",
       "    <tr>\n",
       "      <th>0.2500</th>\n",
       "      <td>1.623538e+07</td>\n",
       "      <td>6.554995e+06</td>\n",
       "      <td>6.392899e+08</td>\n",
       "      <td>662080250.0</td>\n",
       "    </tr>\n",
       "  </tbody>\n",
       "</table>\n",
       "</div>"
      ],
      "text/plain": [
       "        exposed citizens on internet  radicalized citizens  \\\n",
       "0.0000                  0.000000e+00          6.555250e+06   \n",
       "0.0625                  4.097031e+06          6.555250e+06   \n",
       "0.1250                  8.168499e+06          6.555207e+06   \n",
       "0.1875                  1.221456e+07          6.555122e+06   \n",
       "0.2500                  1.623538e+07          6.554995e+06   \n",
       "\n",
       "        unexposed citizens on internet        total  \n",
       "0.0000                    6.555250e+08  662080250.0  \n",
       "0.0625                    6.514280e+08  662080250.0  \n",
       "0.1250                    6.473565e+08  662080250.0  \n",
       "0.1875                    6.433106e+08  662080250.0  \n",
       "0.2500                    6.392899e+08  662080250.0  "
      ]
     },
     "execution_count": 4,
     "metadata": {},
     "output_type": "execute_result"
    }
   ],
   "source": [
    "# of course always the same, because no people are leaving our model\n",
    "\n",
    "values['total']=values['exposed citizens on internet'] + values['unexposed citizens on internet'] + values['radicalized citizens'] \n",
    "\n",
    "values.head(5)"
   ]
  },
  {
   "cell_type": "code",
   "execution_count": 5,
   "metadata": {
    "collapsed": false,
    "scrolled": true
   },
   "outputs": [
    {
     "data": {
      "text/plain": [
       "662080250.00000012"
      ]
     },
     "execution_count": 5,
     "metadata": {},
     "output_type": "execute_result"
    }
   ],
   "source": [
    "# maximum amount of units at any time in the system\n",
    "\n",
    "max_stock = values['total'].values.max()\n",
    "\n",
    "max_stock"
   ]
  },
  {
   "cell_type": "code",
   "execution_count": 6,
   "metadata": {
    "collapsed": false
   },
   "outputs": [
    {
     "data": {
      "text/plain": [
       "26483210.000000004"
      ]
     },
     "execution_count": 6,
     "metadata": {},
     "output_type": "execute_result"
    }
   ],
   "source": [
    "# one_ball is how many units are represented in one ball, based on this maximum value\n",
    "\n",
    "one_ball = max_stock/25\n",
    "\n",
    "one_ball"
   ]
  },
  {
   "cell_type": "code",
   "execution_count": 7,
   "metadata": {
    "collapsed": false
   },
   "outputs": [
    {
     "data": {
      "text/plain": [
       "25.0"
      ]
     },
     "execution_count": 7,
     "metadata": {},
     "output_type": "execute_result"
    }
   ],
   "source": [
    "# total amount of units in a specified stock at a specified time\n",
    "\n",
    "# value_in_stock = values['unexposed citizens on internet'].loc[0.0625]\n",
    "\n",
    "# expressed in balls\n",
    "\n",
    "# balls_in_stock = round (value_in_stock / one_ball)\n",
    "# balls_in_stock"
   ]
  },
  {
   "cell_type": "code",
   "execution_count": 106,
   "metadata": {
    "collapsed": false
   },
   "outputs": [
    {
     "data": {
      "text/html": [
       "<div>\n",
       "<table border=\"1\" class=\"dataframe\">\n",
       "  <thead>\n",
       "    <tr style=\"text-align: right;\">\n",
       "      <th></th>\n",
       "      <th>exposed citizens on internet</th>\n",
       "      <th>radicalized citizens</th>\n",
       "      <th>unexposed citizens on internet</th>\n",
       "      <th>total</th>\n",
       "    </tr>\n",
       "  </thead>\n",
       "  <tbody>\n",
       "    <tr>\n",
       "      <th>0.0000</th>\n",
       "      <td>0.000</td>\n",
       "      <td>0.248</td>\n",
       "      <td>24.752</td>\n",
       "      <td>25.0</td>\n",
       "    </tr>\n",
       "    <tr>\n",
       "      <th>0.0625</th>\n",
       "      <td>0.155</td>\n",
       "      <td>0.248</td>\n",
       "      <td>24.598</td>\n",
       "      <td>25.0</td>\n",
       "    </tr>\n",
       "    <tr>\n",
       "      <th>0.1250</th>\n",
       "      <td>0.308</td>\n",
       "      <td>0.248</td>\n",
       "      <td>24.444</td>\n",
       "      <td>25.0</td>\n",
       "    </tr>\n",
       "    <tr>\n",
       "      <th>0.1875</th>\n",
       "      <td>0.461</td>\n",
       "      <td>0.248</td>\n",
       "      <td>24.291</td>\n",
       "      <td>25.0</td>\n",
       "    </tr>\n",
       "    <tr>\n",
       "      <th>0.2500</th>\n",
       "      <td>0.613</td>\n",
       "      <td>0.248</td>\n",
       "      <td>24.139</td>\n",
       "      <td>25.0</td>\n",
       "    </tr>\n",
       "  </tbody>\n",
       "</table>\n",
       "</div>"
      ],
      "text/plain": [
       "        exposed citizens on internet  radicalized citizens  \\\n",
       "0.0000                         0.000                 0.248   \n",
       "0.0625                         0.155                 0.248   \n",
       "0.1250                         0.308                 0.248   \n",
       "0.1875                         0.461                 0.248   \n",
       "0.2500                         0.613                 0.248   \n",
       "\n",
       "        unexposed citizens on internet  total  \n",
       "0.0000                          24.752   25.0  \n",
       "0.0625                          24.598   25.0  \n",
       "0.1250                          24.444   25.0  \n",
       "0.1875                          24.291   25.0  \n",
       "0.2500                          24.139   25.0  "
      ]
     },
     "execution_count": 106,
     "metadata": {},
     "output_type": "execute_result"
    }
   ],
   "source": [
    "# create a table similar to 'values' with the amount of balls per stock\n",
    "# amount_of_balls\n",
    "\n",
    "# zero - nonzero (1/1000): if 0.000 leave 0, else 0.5\n",
    "\n",
    "amount_of_balls = values.divide(one_ball).round(3)\n",
    "\n",
    "amount_of_balls.head()"
   ]
  },
  {
   "cell_type": "code",
   "execution_count": 109,
   "metadata": {
    "collapsed": false
   },
   "outputs": [
    {
     "data": {
      "text/html": [
       "<div>\n",
       "<table border=\"1\" class=\"dataframe\">\n",
       "  <thead>\n",
       "    <tr style=\"text-align: right;\">\n",
       "      <th></th>\n",
       "      <th>exposed citizens on internet</th>\n",
       "      <th>radicalized citizens</th>\n",
       "      <th>unexposed citizens on internet</th>\n",
       "      <th>total</th>\n",
       "    </tr>\n",
       "  </thead>\n",
       "  <tbody>\n",
       "    <tr>\n",
       "      <th>0.0000</th>\n",
       "      <td>0.0</td>\n",
       "      <td>0.5</td>\n",
       "      <td>25.0</td>\n",
       "      <td>25.0</td>\n",
       "    </tr>\n",
       "    <tr>\n",
       "      <th>0.0625</th>\n",
       "      <td>0.5</td>\n",
       "      <td>0.5</td>\n",
       "      <td>25.0</td>\n",
       "      <td>25.0</td>\n",
       "    </tr>\n",
       "    <tr>\n",
       "      <th>0.1250</th>\n",
       "      <td>0.5</td>\n",
       "      <td>0.5</td>\n",
       "      <td>24.0</td>\n",
       "      <td>25.0</td>\n",
       "    </tr>\n",
       "    <tr>\n",
       "      <th>0.1875</th>\n",
       "      <td>0.5</td>\n",
       "      <td>0.5</td>\n",
       "      <td>24.0</td>\n",
       "      <td>25.0</td>\n",
       "    </tr>\n",
       "    <tr>\n",
       "      <th>0.2500</th>\n",
       "      <td>0.5</td>\n",
       "      <td>0.5</td>\n",
       "      <td>24.0</td>\n",
       "      <td>25.0</td>\n",
       "    </tr>\n",
       "  </tbody>\n",
       "</table>\n",
       "</div>"
      ],
      "text/plain": [
       "        exposed citizens on internet  radicalized citizens  \\\n",
       "0.0000                           0.0                   0.5   \n",
       "0.0625                           0.5                   0.5   \n",
       "0.1250                           0.5                   0.5   \n",
       "0.1875                           0.5                   0.5   \n",
       "0.2500                           0.5                   0.5   \n",
       "\n",
       "        unexposed citizens on internet  total  \n",
       "0.0000                            25.0   25.0  \n",
       "0.0625                            25.0   25.0  \n",
       "0.1250                            24.0   25.0  \n",
       "0.1875                            24.0   25.0  \n",
       "0.2500                            24.0   25.0  "
      ]
     },
     "execution_count": 109,
     "metadata": {},
     "output_type": "execute_result"
    }
   ],
   "source": [
    "def condition(val):\n",
    "    if val < 0.001:\n",
    "        return 0.000\n",
    "    if 0.001 <= val <= 1:\n",
    "        return 0.500\n",
    "    return round(val)\n",
    "\n",
    "amount_of_balls['exposed citizens on internet'] = amount_of_balls['exposed citizens on internet'].apply(condition)\n",
    "amount_of_balls['radicalized citizens'] = amount_of_balls['radicalized citizens'].apply(condition)\n",
    "amount_of_balls['unexposed citizens on internet'] = amount_of_balls['unexposed citizens on internet'].apply(condition)\n",
    "\n",
    "amount_of_balls.head()"
   ]
  },
  {
   "cell_type": "code",
   "execution_count": null,
   "metadata": {
    "collapsed": true
   },
   "outputs": [],
   "source": []
  }
 ],
 "metadata": {
  "kernelspec": {
   "display_name": "Python [Root]",
   "language": "python",
   "name": "Python [Root]"
  },
  "language_info": {
   "codemirror_mode": {
    "name": "ipython",
    "version": 3
   },
   "file_extension": ".py",
   "mimetype": "text/x-python",
   "name": "python",
   "nbconvert_exporter": "python",
   "pygments_lexer": "ipython3",
   "version": "3.5.2"
  }
 },
 "nbformat": 4,
 "nbformat_minor": 0
}

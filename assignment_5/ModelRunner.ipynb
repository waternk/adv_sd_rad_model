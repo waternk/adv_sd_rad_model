{
 "cells": [
  {
   "cell_type": "code",
   "execution_count": 5,
   "metadata": {
    "collapsed": true
   },
   "outputs": [],
   "source": [
    "%matplotlib inline\n",
    "import pandas as pd\n",
    "import pysd"
   ]
  },
  {
   "cell_type": "code",
   "execution_count": 7,
   "metadata": {
    "collapsed": false
   },
   "outputs": [],
   "source": [
    "PySD_model = pysd.read_vensim('ASD_V2.mdl')\n",
    "#from IPython.display import Image\n",
    "#Image(filename='Radicalization.png')"
   ]
  },
  {
   "cell_type": "code",
   "execution_count": 42,
   "metadata": {
    "collapsed": false
   },
   "outputs": [
    {
     "data": {
      "text/html": [
       "<div>\n",
       "<table border=\"1\" class=\"dataframe\">\n",
       "  <thead>\n",
       "    <tr style=\"text-align: right;\">\n",
       "      <th></th>\n",
       "      <th>exposed citizens on internet</th>\n",
       "      <th>radicalized citizens</th>\n",
       "      <th>unexposed citizens on internet</th>\n",
       "    </tr>\n",
       "  </thead>\n",
       "  <tbody>\n",
       "    <tr>\n",
       "      <th>0.0000</th>\n",
       "      <td>0.000000e+00</td>\n",
       "      <td>6.555250e+06</td>\n",
       "      <td>6.555250e+08</td>\n",
       "    </tr>\n",
       "    <tr>\n",
       "      <th>0.0625</th>\n",
       "      <td>4.097031e+06</td>\n",
       "      <td>6.555250e+06</td>\n",
       "      <td>6.514280e+08</td>\n",
       "    </tr>\n",
       "    <tr>\n",
       "      <th>0.1250</th>\n",
       "      <td>8.168499e+06</td>\n",
       "      <td>6.555207e+06</td>\n",
       "      <td>6.473565e+08</td>\n",
       "    </tr>\n",
       "    <tr>\n",
       "      <th>0.1875</th>\n",
       "      <td>1.221456e+07</td>\n",
       "      <td>6.555122e+06</td>\n",
       "      <td>6.433106e+08</td>\n",
       "    </tr>\n",
       "    <tr>\n",
       "      <th>0.2500</th>\n",
       "      <td>1.623538e+07</td>\n",
       "      <td>6.554995e+06</td>\n",
       "      <td>6.392899e+08</td>\n",
       "    </tr>\n",
       "  </tbody>\n",
       "</table>\n",
       "</div>"
      ],
      "text/plain": [
       "        exposed citizens on internet  radicalized citizens  \\\n",
       "0.0000                  0.000000e+00          6.555250e+06   \n",
       "0.0625                  4.097031e+06          6.555250e+06   \n",
       "0.1250                  8.168499e+06          6.555207e+06   \n",
       "0.1875                  1.221456e+07          6.555122e+06   \n",
       "0.2500                  1.623538e+07          6.554995e+06   \n",
       "\n",
       "        unexposed citizens on internet  \n",
       "0.0000                    6.555250e+08  \n",
       "0.0625                    6.514280e+08  \n",
       "0.1250                    6.473565e+08  \n",
       "0.1875                    6.433106e+08  \n",
       "0.2500                    6.392899e+08  "
      ]
     },
     "execution_count": 42,
     "metadata": {},
     "output_type": "execute_result"
    }
   ],
   "source": [
    "values = PySD_model.run(return_columns=['unexposed citizens on internet','exposed citizens on internet' ,'radicalized citizens'])\n",
    "values.head()"
   ]
  },
  {
   "cell_type": "code",
   "execution_count": 43,
   "metadata": {
    "collapsed": false
   },
   "outputs": [
    {
     "data": {
      "text/html": [
       "<div>\n",
       "<table border=\"1\" class=\"dataframe\">\n",
       "  <thead>\n",
       "    <tr style=\"text-align: right;\">\n",
       "      <th></th>\n",
       "      <th>exposed citizens on internet</th>\n",
       "      <th>radicalized citizens</th>\n",
       "      <th>unexposed citizens on internet</th>\n",
       "      <th>total</th>\n",
       "    </tr>\n",
       "  </thead>\n",
       "  <tbody>\n",
       "    <tr>\n",
       "      <th>0.0000</th>\n",
       "      <td>0.000000e+00</td>\n",
       "      <td>6.555250e+06</td>\n",
       "      <td>6.555250e+08</td>\n",
       "      <td>662080250.0</td>\n",
       "    </tr>\n",
       "    <tr>\n",
       "      <th>0.0625</th>\n",
       "      <td>4.097031e+06</td>\n",
       "      <td>6.555250e+06</td>\n",
       "      <td>6.514280e+08</td>\n",
       "      <td>662080250.0</td>\n",
       "    </tr>\n",
       "    <tr>\n",
       "      <th>0.1250</th>\n",
       "      <td>8.168499e+06</td>\n",
       "      <td>6.555207e+06</td>\n",
       "      <td>6.473565e+08</td>\n",
       "      <td>662080250.0</td>\n",
       "    </tr>\n",
       "    <tr>\n",
       "      <th>0.1875</th>\n",
       "      <td>1.221456e+07</td>\n",
       "      <td>6.555122e+06</td>\n",
       "      <td>6.433106e+08</td>\n",
       "      <td>662080250.0</td>\n",
       "    </tr>\n",
       "    <tr>\n",
       "      <th>0.2500</th>\n",
       "      <td>1.623538e+07</td>\n",
       "      <td>6.554995e+06</td>\n",
       "      <td>6.392899e+08</td>\n",
       "      <td>662080250.0</td>\n",
       "    </tr>\n",
       "  </tbody>\n",
       "</table>\n",
       "</div>"
      ],
      "text/plain": [
       "        exposed citizens on internet  radicalized citizens  \\\n",
       "0.0000                  0.000000e+00          6.555250e+06   \n",
       "0.0625                  4.097031e+06          6.555250e+06   \n",
       "0.1250                  8.168499e+06          6.555207e+06   \n",
       "0.1875                  1.221456e+07          6.555122e+06   \n",
       "0.2500                  1.623538e+07          6.554995e+06   \n",
       "\n",
       "        unexposed citizens on internet        total  \n",
       "0.0000                    6.555250e+08  662080250.0  \n",
       "0.0625                    6.514280e+08  662080250.0  \n",
       "0.1250                    6.473565e+08  662080250.0  \n",
       "0.1875                    6.433106e+08  662080250.0  \n",
       "0.2500                    6.392899e+08  662080250.0  "
      ]
     },
     "execution_count": 43,
     "metadata": {},
     "output_type": "execute_result"
    }
   ],
   "source": [
    "# of course always the same, because no people are leaving our model\n",
    "\n",
    "values['total']=values['exposed citizens on internet'] + values['unexposed citizens on internet'] + values['radicalized citizens'] \n",
    "\n",
    "values.head(5)"
   ]
  },
  {
   "cell_type": "code",
   "execution_count": 44,
   "metadata": {
    "collapsed": false,
    "scrolled": true
   },
   "outputs": [
    {
     "data": {
      "text/plain": [
       "662080250.00000012"
      ]
     },
     "execution_count": 44,
     "metadata": {},
     "output_type": "execute_result"
    }
   ],
   "source": [
    "# maximum amount of units at any time in the system\n",
    "\n",
    "max_stock = values['total'].values.max()\n",
    "\n",
    "max_stock"
   ]
  },
  {
   "cell_type": "code",
   "execution_count": 45,
   "metadata": {
    "collapsed": false
   },
   "outputs": [
    {
     "data": {
      "text/plain": [
       "26483210.000000004"
      ]
     },
     "execution_count": 45,
     "metadata": {},
     "output_type": "execute_result"
    }
   ],
   "source": [
    "# one_ball is how many units are represented in one ball, based on this maximum value\n",
    "\n",
    "one_ball = max_stock/25\n",
    "\n",
    "one_ball"
   ]
  },
  {
   "cell_type": "code",
   "execution_count": 46,
   "metadata": {
    "collapsed": false
   },
   "outputs": [
    {
     "data": {
      "text/plain": [
       "25.0"
      ]
     },
     "execution_count": 46,
     "metadata": {},
     "output_type": "execute_result"
    }
   ],
   "source": [
    "# total amount of units in a specified stock at a specified time\n",
    "\n",
    "value_in_stock = values['unexposed citizens on internet'].loc[0.0625]\n",
    "\n",
    "# expressed in balls\n",
    "\n",
    "balls_in_stock = round (value_in_stock / one_ball)\n",
    "balls_in_stock"
   ]
  },
  {
   "cell_type": "code",
   "execution_count": 49,
   "metadata": {
    "collapsed": false
   },
   "outputs": [
    {
     "data": {
      "text/html": [
       "<div>\n",
       "<table border=\"1\" class=\"dataframe\">\n",
       "  <thead>\n",
       "    <tr style=\"text-align: right;\">\n",
       "      <th></th>\n",
       "      <th>exposed citizens on internet</th>\n",
       "      <th>radicalized citizens</th>\n",
       "      <th>unexposed citizens on internet</th>\n",
       "      <th>total</th>\n",
       "    </tr>\n",
       "  </thead>\n",
       "  <tbody>\n",
       "    <tr>\n",
       "      <th>99.7500</th>\n",
       "      <td>24.975614</td>\n",
       "      <td>0.023269</td>\n",
       "      <td>0.001117</td>\n",
       "      <td>25.0</td>\n",
       "    </tr>\n",
       "    <tr>\n",
       "      <th>99.8125</th>\n",
       "      <td>24.975666</td>\n",
       "      <td>0.023224</td>\n",
       "      <td>0.001110</td>\n",
       "      <td>25.0</td>\n",
       "    </tr>\n",
       "    <tr>\n",
       "      <th>99.8750</th>\n",
       "      <td>24.975718</td>\n",
       "      <td>0.023179</td>\n",
       "      <td>0.001103</td>\n",
       "      <td>25.0</td>\n",
       "    </tr>\n",
       "    <tr>\n",
       "      <th>99.9375</th>\n",
       "      <td>24.975770</td>\n",
       "      <td>0.023134</td>\n",
       "      <td>0.001096</td>\n",
       "      <td>25.0</td>\n",
       "    </tr>\n",
       "    <tr>\n",
       "      <th>100.0000</th>\n",
       "      <td>24.975821</td>\n",
       "      <td>0.023090</td>\n",
       "      <td>0.001089</td>\n",
       "      <td>25.0</td>\n",
       "    </tr>\n",
       "  </tbody>\n",
       "</table>\n",
       "</div>"
      ],
      "text/plain": [
       "          exposed citizens on internet  radicalized citizens  \\\n",
       "99.7500                      24.975614              0.023269   \n",
       "99.8125                      24.975666              0.023224   \n",
       "99.8750                      24.975718              0.023179   \n",
       "99.9375                      24.975770              0.023134   \n",
       "100.0000                     24.975821              0.023090   \n",
       "\n",
       "          unexposed citizens on internet  total  \n",
       "99.7500                         0.001117   25.0  \n",
       "99.8125                         0.001110   25.0  \n",
       "99.8750                         0.001103   25.0  \n",
       "99.9375                         0.001096   25.0  \n",
       "100.0000                        0.001089   25.0  "
      ]
     },
     "execution_count": 49,
     "metadata": {},
     "output_type": "execute_result"
    }
   ],
   "source": [
    "# create a table similar to 'values' with the amount of balls per stock\n",
    "# amount_of_balls\n",
    "\n",
    "amount_of_balls = values.divide(one_ball)\n",
    "\n",
    "amount_of_balls.tail()"
   ]
  }
 ],
 "metadata": {
  "kernelspec": {
   "display_name": "Python [Root]",
   "language": "python",
   "name": "Python [Root]"
  },
  "language_info": {
   "codemirror_mode": {
    "name": "ipython",
    "version": 3
   },
   "file_extension": ".py",
   "mimetype": "text/x-python",
   "name": "python",
   "nbconvert_exporter": "python",
   "pygments_lexer": "ipython3",
   "version": "3.5.2"
  }
 },
 "nbformat": 4,
 "nbformat_minor": 0
}

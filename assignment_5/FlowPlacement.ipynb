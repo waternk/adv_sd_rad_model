{
 "cells": [
  {
   "cell_type": "markdown",
   "metadata": {},
   "source": [
    "# Placement of the flows on the four available \"slots\""
   ]
  },
  {
   "cell_type": "markdown",
   "metadata": {},
   "source": [
    "For every stock in the model check how many and which flows it has.\n",
    "- per stock loop through the flows.\n",
    "- if the stock is a destination in the flow then the flow is an inflow in the stock.\n",
    "- if the stock is a dource in the flow then the flow is an outflow in the stock.\n",
    "- check whether there are maximally four in- and outflows.\n",
    "- place the flows on the up, right, down, left positions of the stock drawing."
   ]
  },
  {
   "cell_type": "code",
   "execution_count": 76,
   "metadata": {
    "collapsed": false
   },
   "outputs": [],
   "source": [
    "# Parse all the elements from the vensim model.\n",
    "from ElementParser import ElementParser\n",
    "\n",
    "parser = ElementParser('ASD_V2.mdl')\n",
    "elements = parser.parse()\n",
    "#elements"
   ]
  },
  {
   "cell_type": "code",
   "execution_count": 75,
   "metadata": {
    "collapsed": false
   },
   "outputs": [],
   "source": [
    "# Create a list of stocks\n",
    "stocks = []\n",
    "for elem in elements:\n",
    "    if type(elem) == ModelObjects.Stock:\n",
    "        stocks.append(elem)"
   ]
  },
  {
   "cell_type": "code",
   "execution_count": 78,
   "metadata": {
    "collapsed": false
   },
   "outputs": [],
   "source": [
    "# Create a list of flows\n",
    "flows = []\n",
    "for elem in elements:\n",
    "    if type(elem) == ModelObjects.Flow:\n",
    "        flows.append(elem)"
   ]
  },
  {
   "cell_type": "code",
   "execution_count": 93,
   "metadata": {
    "collapsed": false
   },
   "outputs": [
    {
     "name": "stdout",
     "output_type": "stream",
     "text": [
      "{<ModelObjects.Stock object at 0x1043c9cc0>: ([<ModelObjects.Flow object at 0x1043ae128>, <ModelObjects.Flow object at 0x1043ae240>], [<ModelObjects.Flow object at 0x1043ae160>]), <ModelObjects.Stock object at 0x1043c95c0>: ([<ModelObjects.Flow object at 0x1043ae160>], [<ModelObjects.Flow object at 0x1043ae240>]), <ModelObjects.Stock object at 0x1043c9978>: ([], [<ModelObjects.Flow object at 0x1043ae128>])}\n"
     ]
    }
   ],
   "source": [
    "# Make lists of in and outflows per stock in a dictionary\n",
    "# {stock: [inflows],[outflows]}\n",
    "InOutFlows = {}\n",
    "for stock in stocks:\n",
    "    inflows = []\n",
    "    outflows = []\n",
    "    for flow in flows:\n",
    "        if stock.name == flow.dst.name:\n",
    "            inflows.append(flow)\n",
    "        elif stock.name == flow.src.name:\n",
    "            outflows.append(flow)\n",
    "    InOutFlows[stock] = inflows,outflows\n",
    "print(InOutFlows)"
   ]
  },
  {
   "cell_type": "code",
   "execution_count": 101,
   "metadata": {
    "collapsed": false
   },
   "outputs": [],
   "source": [
    "# Check whether any of the stocks in the model have more than 4 in- or outflows and if they do create an error.\n",
    "for key in InOutFlows:\n",
    "    #print(InOutFlows[key])\n",
    "    if len(InOutFlows[key][0])+len(InOutFlows[key][1])>4:\n",
    "        print(\"Aaaah nooo!!!\") # Create an error"
   ]
  },
  {
   "cell_type": "code",
   "execution_count": null,
   "metadata": {
    "collapsed": true
   },
   "outputs": [],
   "source": [
    "# create a dictionary? of a stock with flows placed at the right place: right, down, left, up.\n",
    "# {stock: right, down, left, up}\n",
    "FlowPlace = {}\n",
    "for key in InOutFlows:\n",
    "    innr = len(InOutFlows[key][0])\n",
    "    outnr = len(InOutFlows[key][1])\n",
    "    \n",
    "        \n",
    "        "
   ]
  }
 ],
 "metadata": {
  "kernelspec": {
   "display_name": "Python [Root]",
   "language": "python",
   "name": "Python [Root]"
  },
  "language_info": {
   "codemirror_mode": {
    "name": "ipython",
    "version": 3
   },
   "file_extension": ".py",
   "mimetype": "text/x-python",
   "name": "python",
   "nbconvert_exporter": "python",
   "pygments_lexer": "ipython3",
   "version": "3.5.2"
  }
 },
 "nbformat": 4,
 "nbformat_minor": 0
}

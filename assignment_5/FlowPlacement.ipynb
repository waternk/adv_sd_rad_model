{
 "cells": [
  {
   "cell_type": "markdown",
   "metadata": {},
   "source": [
    "# Placement of the flows on the four available \"slots\""
   ]
  },
  {
   "cell_type": "markdown",
   "metadata": {},
   "source": [
    "For every stock in the model check how many and which flows it has.\n",
    "- per stock loop through the flows.\n",
    "- if the stock is a destination in the flow then the flow is an inflow in the stock.\n",
    "- if the stock is a dource in the flow then the flow is an outflow in the stock.\n",
    "- check whether there are maximally four in- and outflows.\n",
    "- place the flows on the up, right, down, left positions of the stock drawing."
   ]
  },
  {
   "cell_type": "code",
   "execution_count": 3,
   "metadata": {
    "collapsed": false
   },
   "outputs": [],
   "source": [
    "# Parse all the elements from the vensim model.\n",
    "from ElementParser import ElementParser\n",
    "\n",
    "parser = ElementParser('ASD_V2.mdl')\n",
    "elements = parser.parse()"
   ]
  },
  {
   "cell_type": "code",
   "execution_count": 9,
   "metadata": {
    "collapsed": false
   },
   "outputs": [],
   "source": [
    "from ModelObjects import Element, Stock, ValueElement, Flow, Variable, ValueType, ValueTypeConstant, Source, Sink"
   ]
  },
  {
   "cell_type": "code",
   "execution_count": 41,
   "metadata": {
    "collapsed": false
   },
   "outputs": [],
   "source": [
    "for element in elements:\n",
    "    if Stock == True:\n",
    "        print(element)"
   ]
  },
  {
   "cell_type": "code",
   "execution_count": 38,
   "metadata": {
    "collapsed": false
   },
   "outputs": [
    {
     "data": {
      "text/plain": [
       "list"
      ]
     },
     "execution_count": 38,
     "metadata": {},
     "output_type": "execute_result"
    }
   ],
   "source": [
    "type(elements)\n"
   ]
  }
 ],
 "metadata": {
  "kernelspec": {
   "display_name": "Python [Root]",
   "language": "python",
   "name": "Python [Root]"
  },
  "language_info": {
   "codemirror_mode": {
    "name": "ipython",
    "version": 3
   },
   "file_extension": ".py",
   "mimetype": "text/x-python",
   "name": "python",
   "nbconvert_exporter": "python",
   "pygments_lexer": "ipython3",
   "version": "3.5.2"
  }
 },
 "nbformat": 4,
 "nbformat_minor": 0
}

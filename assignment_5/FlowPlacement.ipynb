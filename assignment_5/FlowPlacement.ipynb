{
 "cells": [
  {
   "cell_type": "markdown",
   "metadata": {},
   "source": [
    "# Placement of the flows on the four available \"slots\""
   ]
  },
  {
   "cell_type": "markdown",
   "metadata": {},
   "source": [
    "For every stock in the model check how many and which flows it has.\n",
    "- per stock loop through the flows.\n",
    "- if the stock is a destination in the flow then the flow is an inflow in the stock.\n",
    "- if the stock is a dource in the flow then the flow is an outflow in the stock.\n",
    "- check whether there are maximally four in- and outflows.\n",
    "- place the flows on the up, right, down, left positions of the stock drawing."
   ]
  },
  {
   "cell_type": "code",
   "execution_count": 76,
   "metadata": {
    "collapsed": false
   },
   "outputs": [],
   "source": [
    "from ElementParser import ElementParser"
   ]
  },
  {
   "cell_type": "code",
   "execution_count": 165,
   "metadata": {
    "collapsed": false
   },
   "outputs": [
    {
     "data": {
      "text/plain": [
       "{<ModelObjects.Stock at 0x1042c6eb8>: [[],\n",
       "  [<ModelObjects.Flow at 0x1043b82b0>],\n",
       "  {'right': <ModelObjects.Flow at 0x1043b82b0>},\n",
       "  {'right': 'out'}],\n",
       " <ModelObjects.Stock at 0x10427bfd0>: [[<ModelObjects.Flow at 0x1043b89b0>],\n",
       "  [<ModelObjects.Flow at 0x1043b8080>],\n",
       "  {'left': <ModelObjects.Flow at 0x1043b89b0>,\n",
       "   'right': <ModelObjects.Flow at 0x1043b8080>},\n",
       "  {'left': 'in', 'right': 'out'}],\n",
       " <ModelObjects.Stock at 0x1042c6b70>: [[<ModelObjects.Flow at 0x1043b82b0>,\n",
       "   <ModelObjects.Flow at 0x1043b8080>],\n",
       "  [<ModelObjects.Flow at 0x1043b89b0>],\n",
       "  {'left': <ModelObjects.Flow at 0x1043b82b0>,\n",
       "   'right': <ModelObjects.Flow at 0x1043b89b0>,\n",
       "   'up': <ModelObjects.Flow at 0x1043b8080>},\n",
       "  {'left': 'in', 'right': 'out', 'up': 'in'}]}"
      ]
     },
     "execution_count": 165,
     "metadata": {},
     "output_type": "execute_result"
    }
   ],
   "source": [
    "PlaceFlows('ASD_V2.mdl')"
   ]
  },
  {
   "cell_type": "code",
   "execution_count": 158,
   "metadata": {
    "collapsed": true
   },
   "outputs": [],
   "source": [
    "# gets flows and stocks and places them according to whether they are in or out flows\n",
    "# returns a dictionary: {stock:[inflows],[outflows],{placements},{in/out mapping}}\n",
    "def PlaceFlows(model):\n",
    "    parser = ElementParser(model)\n",
    "    elements = parser.parse()\n",
    "    stocks = getStocks(elements)\n",
    "    flows = getFlows(elements)\n",
    "    InOutFlows = getInOutFlows(stocks,flows)\n",
    "    if checkNumberOfFlows(InOutFlows) == True:\n",
    "        placedFlows = placeFlowsSigns(InOutFlows)\n",
    "        return placedFlows\n",
    "    else:\n",
    "        print(\"The model has one or more stocks with more than four in or out flows\")\n",
    "    "
   ]
  },
  {
   "cell_type": "code",
   "execution_count": 160,
   "metadata": {
    "collapsed": false
   },
   "outputs": [],
   "source": [
    "# Create a list of stocks\n",
    "def getStocks(elements):\n",
    "    stocks = []\n",
    "    for elem in elements:\n",
    "        if type(elem) == ModelObjects.Stock:\n",
    "            stocks.append(elem)\n",
    "    return stocks"
   ]
  },
  {
   "cell_type": "code",
   "execution_count": 161,
   "metadata": {
    "collapsed": false
   },
   "outputs": [],
   "source": [
    "# Create a list of flows\n",
    "def getFlows(elements):\n",
    "    flows = []\n",
    "    for elem in elements:\n",
    "        if type(elem) == ModelObjects.Flow:\n",
    "            flows.append(elem)\n",
    "    return flows"
   ]
  },
  {
   "cell_type": "code",
   "execution_count": 162,
   "metadata": {
    "collapsed": false
   },
   "outputs": [],
   "source": [
    "# Make lists of in and outflows per stock in a dictionary\n",
    "# returns: {stock: [inflows],[outflows]}\n",
    "def getInOutFlows(stocks,flows):\n",
    "    InOutFlows = {}\n",
    "    for stock in stocks:\n",
    "        inflows = []\n",
    "        outflows = []\n",
    "        inandout = []\n",
    "        for flow in flows:\n",
    "            if stock.name == flow.dst.name:\n",
    "                inflows.append(flow)\n",
    "            elif stock.name == flow.src.name:\n",
    "                outflows.append(flow)\n",
    "        inandout = [inflows,outflows]\n",
    "        InOutFlows[stock] = inandout\n",
    "    return InOutFlows"
   ]
  },
  {
   "cell_type": "code",
   "execution_count": 163,
   "metadata": {
    "collapsed": false
   },
   "outputs": [],
   "source": [
    "# Check whether any of the stocks in the model have more than 4 in- or outflows.\n",
    "def checkNumberOfFlows(InOutFlows):\n",
    "    for key in InOutFlows:\n",
    "        if len(InOutFlows[key][0])+len(InOutFlows[key][1])>4:\n",
    "            return False\n",
    "        else:\n",
    "            return True"
   ]
  },
  {
   "cell_type": "code",
   "execution_count": 164,
   "metadata": {
    "collapsed": false
   },
   "outputs": [],
   "source": [
    "# create a dictionary of a stock with flows placed at the right place: right, down, left, up.\n",
    "# {stock: [inflows],[outflows],{right, down, left, up},{in,out}}\n",
    "def placeFlowsSigns(InOutFlows):\n",
    "    for key in InOutFlows:\n",
    "        FlowPlace = {}\n",
    "        FlowSign = {}\n",
    "        for flow in InOutFlows[key][0]:\n",
    "            if 'left' not in FlowPlace.keys():\n",
    "                FlowPlace['left'] = flow\n",
    "                FlowSign['left'] = 'in'\n",
    "            elif 'up' not in FlowPlace.keys():\n",
    "                FlowPlace['up'] = flow\n",
    "                FlowSign['up'] = 'in'\n",
    "            elif 'down' not in FlowPlace.keys():\n",
    "                FlowPlace['down'] = flow\n",
    "                FlowSign['down'] = 'in'\n",
    "            elif 'right' not in FlowPlace.keys():\n",
    "                FlowPlace['right'] = flow\n",
    "                FlowSign['right'] = 'in'\n",
    "        for flow in InOutFlows[key][1]:\n",
    "            if 'right' not in FlowPlace.keys():\n",
    "                FlowPlace['right'] = flow\n",
    "                FlowSign['right'] = 'out'\n",
    "            elif 'down' not in FlowPlace.keys():\n",
    "                FlowPlace['down'] = flow\n",
    "                FlowSign['down'] = 'out'\n",
    "            elif 'up' not in FlowPlace.keys():\n",
    "                FLowPlace['up'] = flow\n",
    "                FLowSign['up'] = 'out'\n",
    "            elif 'left' not in FlowPlace.keys():\n",
    "                FlowPlace['left'] = flow\n",
    "                FlowSign['left'] = 'out'\n",
    "        InOutFlows[key].append(FlowPlace)\n",
    "        InOutFlows[key].append(FlowSign)\n",
    "    return InOutFlows\n"
   ]
  }
 ],
 "metadata": {
  "kernelspec": {
   "display_name": "Python 2",
   "language": "python",
   "name": "python2"
  },
  "language_info": {
   "codemirror_mode": {
    "name": "ipython",
    "version": 2
   },
   "file_extension": ".py",
   "mimetype": "text/x-python",
   "name": "python",
   "nbconvert_exporter": "python",
   "pygments_lexer": "ipython2",
   "version": "2.7.13"
  }
 },
 "nbformat": 4,
 "nbformat_minor": 0
}

{
 "cells": [
  {
   "cell_type": "markdown",
   "metadata": {},
   "source": [
    "# Visualiser\n",
    "\n",
    "This visualiser runs a model and animates the behaviour over time using boxes and balls.\n",
    "\n",
    "The following settings can be changed in the **VisualisationSettings** class:\n",
    "* Width - width of the output screen\n",
    "* Height - height of the output screen\n",
    "* Box rows - the number of rows of boxes to be used\n",
    "* Box cols - the number of cols of boxes to be used\n",
    "* Ball rows - the number of rows of balls to display\n",
    "* Ball cols - the number of cols of balls to display\n",
    "* Run Speed - how long to wait before showing the next animation frame (in ms)"
   ]
  },
  {
   "cell_type": "code",
   "execution_count": 5,
   "metadata": {
    "collapsed": false
   },
   "outputs": [],
   "source": [
    "from Visualiser import VisualisationSettings\n",
    "width = 750\n",
    "height = 300\n",
    "box_rows = 1\n",
    "box_cols = 3\n",
    "ball_rows = 10\n",
    "ball_cols = 10\n",
    "run_speed = 100\n",
    "\n",
    "settings = VisualisationSettings(width, height, box_rows, box_cols, ball_rows, ball_cols, run_speed)"
   ]
  },
  {
   "cell_type": "code",
   "execution_count": 6,
   "metadata": {
    "collapsed": false
   },
   "outputs": [],
   "source": [
    "from Visualiser import Visualiser\n",
    "Visualiser().visualise('ASD_2.mdl', 'index', settings)"
   ]
  },
  {
   "cell_type": "code",
   "execution_count": 7,
   "metadata": {
    "collapsed": false
   },
   "outputs": [
    {
     "data": {
      "text/html": [
       "\n",
       "        <iframe\n",
       "            width=\"750\"\n",
       "            height=\"300\"\n",
       "            src=\"index.html\"\n",
       "            frameborder=\"0\"\n",
       "            allowfullscreen\n",
       "        ></iframe>\n",
       "        "
      ],
      "text/plain": [
       "<IPython.lib.display.IFrame at 0x114e3a090>"
      ]
     },
     "execution_count": 7,
     "metadata": {},
     "output_type": "execute_result"
    }
   ],
   "source": [
    "from IPython.display import IFrame\n",
    "IFrame('index.html', width=settings.width, height=settings.height)"
   ]
  }
 ],
 "metadata": {
  "kernelspec": {
   "display_name": "Python 2",
   "language": "python",
   "name": "python2"
  },
  "language_info": {
   "codemirror_mode": {
    "name": "ipython",
    "version": 2
   },
   "file_extension": ".py",
   "mimetype": "text/x-python",
   "name": "python",
   "nbconvert_exporter": "python",
   "pygments_lexer": "ipython2",
   "version": "2.7.13"
  }
 },
 "nbformat": 4,
 "nbformat_minor": 2
}

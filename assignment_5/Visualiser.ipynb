{
 "cells": [
  {
   "cell_type": "markdown",
   "metadata": {},
   "source": [
    "# Visualiser\n",
    "\n",
    "This visualiser runs a model and animates the behaviour over time using boxes and balls.\n",
    "\n",
    "The following settings can be changed in the **VisualisationSettings** class:\n",
    "* Width - width of the output screen\n",
    "* Height - height of the output screen\n",
    "* Ball rows - the number of rows of balls to display\n",
    "* Ball cols - the number of cols of balls to display"
   ]
  },
  {
   "cell_type": "code",
   "execution_count": 1,
   "metadata": {
    "collapsed": false
   },
   "outputs": [],
   "source": [
    "from VisualisationSettings import VisualisationSettings\n",
    "width = 400\n",
    "height = 400\n",
    "ball_rows = 5\n",
    "ball_cols = 5\n",
    "\n",
    "settings = VisualisationSettings(width, height, ball_rows, ball_cols)"
   ]
  },
  {
   "cell_type": "markdown",
   "metadata": {},
   "source": [
    "## Images\n",
    "This visualisation supports custom images for the entities. Each unit (person, dollar, etc) can be assigned an image in the cell below"
   ]
  },
  {
   "cell_type": "code",
   "execution_count": 2,
   "metadata": {
    "collapsed": true
   },
   "outputs": [],
   "source": [
    "images = {\n",
    "    'person': 'family.png'\n",
    "}"
   ]
  },
  {
   "cell_type": "markdown",
   "metadata": {},
   "source": [
    "## Running the Visualiser\n",
    "The visualiser can be run with the cell directly below."
   ]
  },
  {
   "cell_type": "code",
   "execution_count": 3,
   "metadata": {
    "collapsed": false
   },
   "outputs": [],
   "source": [
    "from Visualiser import Visualiser\n",
    "visualiser = Visualiser('radicalisation', 'ASD_2.mdl', settings)\n",
    "visualiser.visualise(images)"
   ]
  },
  {
   "cell_type": "markdown",
   "metadata": {},
   "source": [
    "## Adjusting the Animation Run Speed\n",
    "To adjust the run speed, use the following steps \n",
    "1. Change the run_speed value (in the cell below)\n",
    "2. Run all cells below **this** cell\n",
    "\n",
    "**Note**: You do not need to rerun the visualiser to adjust the run speed"
   ]
  },
  {
   "cell_type": "code",
   "execution_count": 4,
   "metadata": {
    "collapsed": true
   },
   "outputs": [],
   "source": [
    "run_speed = 100 # time in ms between each anmation frame\n",
    "visualiser.adjustRunSpeed(run_speed)"
   ]
  },
  {
   "cell_type": "code",
   "execution_count": 5,
   "metadata": {
    "collapsed": false
   },
   "outputs": [
    {
     "data": {
      "text/html": [
       "\n",
       "        <iframe\n",
       "            width=\"400\"\n",
       "            height=\"400\"\n",
       "            src=\"radicalisation.html\"\n",
       "            frameborder=\"0\"\n",
       "            allowfullscreen\n",
       "        ></iframe>\n",
       "        "
      ],
      "text/plain": [
       "<IPython.lib.display.IFrame at 0x117e880d0>"
      ]
     },
     "execution_count": 5,
     "metadata": {},
     "output_type": "execute_result"
    }
   ],
   "source": [
    "from IPython.display import IFrame\n",
    "IFrame('radicalisation.html', width=settings.width, height=settings.height)"
   ]
  }
 ],
 "metadata": {
  "kernelspec": {
   "display_name": "Python 2",
   "language": "python",
   "name": "python2"
  },
  "language_info": {
   "codemirror_mode": {
    "name": "ipython",
    "version": 2
   },
   "file_extension": ".py",
   "mimetype": "text/x-python",
   "name": "python",
   "nbconvert_exporter": "python",
   "pygments_lexer": "ipython2",
   "version": "2.7.13"
  }
 },
 "nbformat": 4,
 "nbformat_minor": 2
}

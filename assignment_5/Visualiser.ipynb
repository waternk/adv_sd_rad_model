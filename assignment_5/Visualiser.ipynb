{
 "cells": [
  {
   "cell_type": "markdown",
   "metadata": {},
   "source": [
    "# Visualiser\n",
    "\n",
    "This visualiser runs a model and animates the behaviour over time using boxes and balls.\n",
    "\n",
    "The following settings can be changed in the **VisualisationSettings** class:\n",
    "* Width - width of the output screen\n",
    "* Height - height of the output screen\n",
    "* Ball rows - the number of rows of balls to display\n",
    "* Ball cols - the number of cols of balls to display"
   ]
  },
  {
   "cell_type": "code",
   "execution_count": 1,
   "metadata": {
    "collapsed": false
   },
   "outputs": [],
   "source": [
    "from VisualisationSettings import VisualisationSettings\n",
    "width = 400\n",
    "height = 400\n",
    "ball_rows = 8\n",
    "ball_cols = 8\n",
    "\n",
    "settings = VisualisationSettings(width, height, ball_rows, ball_cols)"
   ]
  },
  {
   "cell_type": "markdown",
   "metadata": {},
   "source": [
    "## Images\n",
    "This visualisation supports custom images for the entities. Each unit (person, dollar, etc) can be assigned an image in the cell below"
   ]
  },
  {
   "cell_type": "code",
   "execution_count": null,
   "metadata": {
    "collapsed": true
   },
   "outputs": [],
   "source": [
    "images = {\n",
    "    'person': 'family.png'\n",
    "}"
   ]
  },
  {
   "cell_type": "markdown",
   "metadata": {},
   "source": [
    "## Running the Visualiser\n",
    "The visualiser can be run with the cell directly below."
   ]
  },
  {
   "cell_type": "code",
   "execution_count": 2,
   "metadata": {
    "collapsed": false
   },
   "outputs": [
    {
     "ename": "TypeError",
     "evalue": "visualise() missing 1 required positional argument: 'images'",
     "output_type": "error",
     "traceback": [
      "\u001b[0;31m---------------------------------------------------------------------------\u001b[0m",
      "\u001b[0;31mTypeError\u001b[0m                                 Traceback (most recent call last)",
      "\u001b[0;32m<ipython-input-2-2e7cca2d82ec>\u001b[0m in \u001b[0;36m<module>\u001b[0;34m()\u001b[0m\n\u001b[1;32m      1\u001b[0m \u001b[0;32mfrom\u001b[0m \u001b[0mVisualiser\u001b[0m \u001b[0;32mimport\u001b[0m \u001b[0mVisualiser\u001b[0m\u001b[0;34m\u001b[0m\u001b[0m\n\u001b[1;32m      2\u001b[0m \u001b[0mvisualiser\u001b[0m \u001b[0;34m=\u001b[0m \u001b[0mVisualiser\u001b[0m\u001b[0;34m(\u001b[0m\u001b[0;34m'index'\u001b[0m\u001b[0;34m,\u001b[0m \u001b[0;34m'ASD_2.mdl'\u001b[0m\u001b[0;34m,\u001b[0m \u001b[0msettings\u001b[0m\u001b[0;34m)\u001b[0m\u001b[0;34m\u001b[0m\u001b[0m\n\u001b[0;32m----> 3\u001b[0;31m \u001b[0mvisualiser\u001b[0m\u001b[0;34m.\u001b[0m\u001b[0mvisualise\u001b[0m\u001b[0;34m(\u001b[0m\u001b[0;34m)\u001b[0m\u001b[0;34m\u001b[0m\u001b[0m\n\u001b[0m",
      "\u001b[0;31mTypeError\u001b[0m: visualise() missing 1 required positional argument: 'images'"
     ]
    }
   ],
   "source": [
    "from Visualiser import Visualiser\n",
    "visualiser = Visualiser('index', 'ASD_2.mdl', settings)\n",
    "visualiser.visualise(images)"
   ]
  },
  {
   "cell_type": "markdown",
   "metadata": {},
   "source": [
    "## Adjusting the Animation Run Speed\n",
    "To adjust the run speed, use the following steps \n",
    "1. Change the run_speed value (in the cell below)\n",
    "2. Run all cells below **this** cell\n",
    "\n",
    "**Note**: You do not need to rerun the visualiser to adjust the run speed"
   ]
  },
  {
   "cell_type": "code",
   "execution_count": null,
   "metadata": {
    "collapsed": true
   },
   "outputs": [],
   "source": [
    "run_speed = 250 # time in ms between each anmation frame\n",
    "visualiser.adjustRunSpeed(run_speed)"
   ]
  },
  {
   "cell_type": "code",
   "execution_count": null,
   "metadata": {
    "collapsed": false
   },
   "outputs": [],
   "source": [
    "from IPython.display import IFrame\n",
    "IFrame('index.html', width=settings.width, height=settings.height)"
   ]
  }
 ],
 "metadata": {
  "kernelspec": {
   "display_name": "Python 3",
   "language": "python",
   "name": "python3"
  },
  "language_info": {
   "codemirror_mode": {
    "name": "ipython",
    "version": 3
   },
   "file_extension": ".py",
   "mimetype": "text/x-python",
   "name": "python",
   "nbconvert_exporter": "python",
   "pygments_lexer": "ipython3",
   "version": "3.6.0"
  }
 },
 "nbformat": 4,
 "nbformat_minor": 2
}

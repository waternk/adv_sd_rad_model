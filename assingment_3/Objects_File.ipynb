{
 "cells": [
  {
   "cell_type": "markdown",
   "metadata": {},
   "source": [
    "# Objects in Python"
   ]
  },
  {
   "cell_type": "markdown",
   "metadata": {},
   "source": [
    "Tips by Erik\n",
    "\n",
    "https://insightmaker.com/ <br/>\n",
    "https://forio.com/ <br/>\n",
    "https://forio.com/simulate/e.pruyt/cholera-in-zimbabwe-more-than-just-a-short-term-crisis-/model/explore/#page=related&level=1&variable=fraction%20of%20infected <br/>\n",
    "https://d3js.org/ <br/>\n",
    "https://networkx.github.io/"
   ]
  },
  {
   "cell_type": "markdown",
   "metadata": {},
   "source": [
    "## Higher level abstraction"
   ]
  },
  {
   "cell_type": "code",
   "execution_count": 16,
   "metadata": {
    "collapsed": false
   },
   "outputs": [],
   "source": [
    "class Element (object):\n",
    "    def __init__ (self,name):\n",
    "        self.name=name"
   ]
  },
  {
   "cell_type": "code",
   "execution_count": 17,
   "metadata": {
    "collapsed": true
   },
   "outputs": [],
   "source": [
    "class SubType (object): pass\n",
    "\n",
    "class ValueType (object): \n",
    "    def __init__ (self,value,subType):\n",
    "        self.value = value\n",
    "        self.subType = subType"
   ]
  },
  {
   "cell_type": "code",
   "execution_count": 18,
   "metadata": {
    "collapsed": false
   },
   "outputs": [],
   "source": [
    "class Link (object):\n",
    "    def __init__(self,src,dst):\n",
    "        self.src = src\n",
    "        self.dst = dst"
   ]
  },
  {
   "cell_type": "code",
   "execution_count": 21,
   "metadata": {
    "collapsed": true
   },
   "outputs": [],
   "source": [
    "class ValueElement (Element):\n",
    "    def __init__ (self,name,valueType):\n",
    "        Element.__init__(self,name)\n",
    "        self.valueType = valueType"
   ]
  },
  {
   "cell_type": "code",
   "execution_count": null,
   "metadata": {
    "collapsed": true
   },
   "outputs": [],
   "source": [
    "class Variable (ValueElement):\n",
    "    def __init__(self,name,valueType):\n",
    "        ValueElement.__init__(self,name,valueType)   "
   ]
  },
  {
   "cell_type": "code",
   "execution_count": null,
   "metadata": {
    "collapsed": true
   },
   "outputs": [],
   "source": [
    "class Flow (ValueElement):\n",
    "    def __init__(self,name,valueType,src,dst):\n",
    "        ValueElement.__init__(self,name,valueType)   \n",
    "        self.src = src\n",
    "        self.dst = dst"
   ]
  },
  {
   "cell_type": "code",
   "execution_count": 25,
   "metadata": {
    "collapsed": true
   },
   "outputs": [],
   "source": [
    "class StockElement (Element): pass\n",
    "\n",
    "class Source (StockElement): pass\n",
    "class Sink (StockElement): pass\n",
    "class Stock (ValueElement,StockElement): pass"
   ]
  }
 ],
 "metadata": {
  "anaconda-cloud": {},
  "kernelspec": {
   "display_name": "Python [Root]",
   "language": "python",
   "name": "Python [Root]"
  },
  "language_info": {
   "codemirror_mode": {
    "name": "ipython",
    "version": 3
   },
   "file_extension": ".py",
   "mimetype": "text/x-python",
   "name": "python",
   "nbconvert_exporter": "python",
   "pygments_lexer": "ipython3",
   "version": "3.5.2"
  }
 },
 "nbformat": 4,
 "nbformat_minor": 0
}

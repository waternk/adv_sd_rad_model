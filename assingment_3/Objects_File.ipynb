{
 "cells": [
  {
   "cell_type": "markdown",
   "metadata": {},
   "source": [
    "# Objects in Python"
   ]
  },
  {
   "cell_type": "markdown",
   "metadata": {},
   "source": [
    "Tips by Erik\n",
    "\n",
    "https://insightmaker.com/ <br/>\n",
    "https://forio.com/ <br/>\n",
    "https://forio.com/simulate/e.pruyt/cholera-in-zimbabwe-more-than-just-a-short-term-crisis-/model/explore/#page=related&level=1&variable=fraction%20of%20infected <br/>\n",
    "https://d3js.org/ <br/>\n",
    "https://networkx.github.io/"
   ]
  },
  {
   "cell_type": "markdown",
   "metadata": {},
   "source": [
    "## Values\n",
    "The value that a particular ValueElement has is stored in a ValueType as a String, while the type information is from the ValueTypeConstant enum. <br/>\n",
    "The enum denotes all the possible types that a ValueType can have in Vensim <br/>\n",
    "\n",
    "While Values have a type, they can have subtypes (which can have options) but are left out for now due to the scope of this project."
   ]
  },
  {
   "cell_type": "code",
   "execution_count": 14,
   "metadata": {
    "collapsed": false
   },
   "outputs": [],
   "source": [
    "from enum import Enum\n",
    "\n",
    "class ValueTypeConstant(Enum):\n",
    "    auxiliary = 0\n",
    "    constant = 1\n",
    "    data = 2\n",
    "    initial = 3\n",
    "    level = 4\n",
    "    lookup = 5\n",
    "    realityCheck = 6\n",
    "    string = 7\n",
    "    subscript = 8\n",
    "    timeBase = 9\n",
    "    \n",
    "class ValueType(object):\n",
    "    def __init__(self,valueTypeConstant,value):\n",
    "        self.valueTypeConstant = valueTypeConstant\n",
    "        self.value = value"
   ]
  },
  {
   "cell_type": "markdown",
   "metadata": {},
   "source": [
    "## Elements\n",
    "All objects in the tree conform to type Element"
   ]
  },
  {
   "cell_type": "code",
   "execution_count": 15,
   "metadata": {
    "collapsed": false
   },
   "outputs": [],
   "source": [
    "class Element (object):\n",
    "    def __init__ (self,name):\n",
    "        self.name=name"
   ]
  },
  {
   "cell_type": "markdown",
   "metadata": {},
   "source": [
    "### Value Elements\n",
    "Stocks, Flows, and Variables (elements that have a value) conform to this type"
   ]
  },
  {
   "cell_type": "code",
   "execution_count": 16,
   "metadata": {
    "collapsed": true
   },
   "outputs": [],
   "source": [
    "class ValueElement (Element):\n",
    "    def __init__ (self,name,valueType):\n",
    "        Element.__init__(self,name)\n",
    "        self.valueType = valueType"
   ]
  },
  {
   "cell_type": "code",
   "execution_count": 17,
   "metadata": {
    "collapsed": true
   },
   "outputs": [],
   "source": [
    "class Variable (ValueElement):\n",
    "    def __init__(self,name,valueType):\n",
    "        ValueElement.__init__(self,name,valueType)   "
   ]
  },
  {
   "cell_type": "code",
   "execution_count": 18,
   "metadata": {
    "collapsed": true
   },
   "outputs": [],
   "source": [
    "class Flow (ValueElement):\n",
    "    def __init__(self,name,valueType,src,dst):\n",
    "        ValueElement.__init__(self,name,valueType)   \n",
    "        self.src = src\n",
    "        self.dst = dst"
   ]
  },
  {
   "cell_type": "markdown",
   "metadata": {},
   "source": [
    "### Stock Elements\n",
    "Elements (Sources, Sinks, and Stocks) that can be the source and destination for a Flow"
   ]
  },
  {
   "cell_type": "code",
   "execution_count": 19,
   "metadata": {
    "collapsed": true
   },
   "outputs": [],
   "source": [
    "class StockElement (Element): pass\n",
    "\n",
    "class Source (StockElement): pass\n",
    "class Sink (StockElement): pass\n",
    "class Stock (ValueElement,StockElement): pass"
   ]
  },
  {
   "cell_type": "markdown",
   "metadata": {},
   "source": [
    "## Links\n",
    "Desribe what the relationships are between different elements"
   ]
  },
  {
   "cell_type": "code",
   "execution_count": 20,
   "metadata": {
    "collapsed": false
   },
   "outputs": [],
   "source": [
    "class Link (object):\n",
    "    def __init__(self,src,dst):\n",
    "        self.src = src\n",
    "        self.dst = dst"
   ]
  },
  {
   "cell_type": "markdown",
   "metadata": {},
   "source": [
    "# Demo"
   ]
  },
  {
   "cell_type": "code",
   "execution_count": 22,
   "metadata": {
    "collapsed": false
   },
   "outputs": [
    {
     "name": "stdout",
     "output_type": "stream",
     "text": [
      "source\n",
      "sink\n",
      "water level\n",
      "water inflow\n",
      "water outflow\n",
      "capacity\n"
     ]
    }
   ],
   "source": [
    "src = Source(\"source\")\n",
    "sink = Sink(\"sink\")\n",
    "stock = Stock(\"water level\", ValueType(\"water inflow - water outflow\", ValueTypeConstant.level))\n",
    "inflow = Flow(\"water inflow\", src, stock, ValueType(\"2\", ValueTypeConstant.constant))\n",
    "outflow = Flow(\"water outflow\", stock, sink, ValueType(\"min(stock*0.2, stock-capacity)\", ValueTypeConstant.auxiliary))\n",
    "capacity = Variable(\"capacity\", ValueType(\"10\", ValueTypeConstant.constant))\n",
    "link = Link(capacity, stock)\n",
    "\n",
    "elements = [src, sink, stock, inflow, outflow, capacity]\n",
    "\n",
    "for elem in elements:\n",
    "    print(elem.name)"
   ]
  }
 ],
 "metadata": {
  "anaconda-cloud": {},
  "kernelspec": {
   "display_name": "Python 2",
   "language": "python",
   "name": "python2"
  },
  "language_info": {
   "codemirror_mode": {
    "name": "ipython",
    "version": 2
   },
   "file_extension": ".py",
   "mimetype": "text/x-python",
   "name": "python",
   "nbconvert_exporter": "python",
   "pygments_lexer": "ipython2",
   "version": "2.7.13"
  }
 },
 "nbformat": 4,
 "nbformat_minor": 0
}

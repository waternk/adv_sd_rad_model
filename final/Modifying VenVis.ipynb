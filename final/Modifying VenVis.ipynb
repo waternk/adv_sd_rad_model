{
 "cells": [
  {
   "cell_type": "markdown",
   "metadata": {},
   "source": [
    "# Change Guide to VenVis\n",
    "This guide is for anyone wanting to extend or modify the VenVis tool"
   ]
  },
  {
   "cell_type": "markdown",
   "metadata": {},
   "source": [
    "## Change the Default Style\n",
    "Modifying the generated *name*_style.css can be done in **Styler.py** <br/>\n",
    "\n",
    "Every css style (per class, id, etc) is an element in the *default_styles* list. Modify this list to modify the default styles of VenVis."
   ]
  },
  {
   "cell_type": "code",
   "execution_count": 20,
   "metadata": {
    "collapsed": false
   },
   "outputs": [
    {
     "data": {
      "text/plain": [
       "['css style here', 'css style with attribute 2017']"
      ]
     },
     "execution_count": 20,
     "metadata": {},
     "output_type": "execute_result"
    }
   ],
   "source": [
    "default_styles = [\n",
    "    \"css style here\",\n",
    "    \"css style with attribute {0}\".format(2017)\n",
    "]\n",
    "\n",
    "default_styles"
   ]
  },
  {
   "cell_type": "markdown",
   "metadata": {},
   "source": [
    "## Change the Default Animation\n",
    "The default animation code is stored as a multi-line string in **AnimationBuilder.py** <br/>"
   ]
  },
  {
   "cell_type": "code",
   "execution_count": 21,
   "metadata": {
    "collapsed": true
   },
   "outputs": [],
   "source": [
    "def build(self):\n",
    "\tanimation_code = \"\"\"\n",
    "        Write your js code here\n",
    "    \"\"\""
   ]
  },
  {
   "cell_type": "markdown",
   "metadata": {},
   "source": [
    "### Animation Code Structure\n",
    "The animation code works as follows:\n",
    "* Wait until the page is loaded\n",
    "* Global variables\n",
    "* General Setup Code\n",
    "* Setup Buttons\n",
    "* Showing Hover animations on the Boxes\n",
    "* Reset the animation\n",
    "* Play, Stop, Pause, Replay functions\n",
    "* Display Progress of the animation\n",
    "* Animation controller\n",
    "* Fill the boxes\n",
    "* Fill a box with the appropriate number of balls"
   ]
  },
  {
   "cell_type": "markdown",
   "metadata": {},
   "source": [
    "## Adding Flows to VenVis\n",
    "Showing how balls go from one box to another can clearly communicate the structure of the model. VenVis currently does not support this. Incorporating these features can require the modifications in the following places:\n",
    "* Change the GroupLayoutManager\n",
    "* Change the BoxLayoutManager\n",
    "* Create a SVGElement subclass\n",
    "* Change the default style\n",
    "* Change the default animation"
   ]
  },
  {
   "cell_type": "markdown",
   "metadata": {},
   "source": [
    "### Change the GroupLayoutManager\n",
    "In VenVis, stocks are drawn together in *StockGroup* objects. The *GroupDrawer* is the class responsible for this process and the *GroupLayoutManager* is responsible for correctly positioning each group on the canvas. <br/>\n",
    "\n",
    "The *GroupLayoutManager* can be found in **GroupDrawer.py**."
   ]
  },
  {
   "cell_type": "code",
   "execution_count": 22,
   "metadata": {
    "collapsed": false
   },
   "outputs": [],
   "source": [
    "rows = 0\n",
    "cols = 0\n",
    "groups = [] # list of groups\n",
    "\n",
    "def layout():\n",
    "\telements = []\n",
    "\tentity_sizes = {}\n",
    "\tbackground_sizes = {}\n",
    "\n",
    "\tfor row in range(0, rows):\n",
    "\t\tfor col in range(0, cols):\n",
    "\t\t\tindex = row * cols + col\n",
    "\t\t\t\n",
    "\t\t\tif index < len(groups):\n",
    "\t\t\t\tgroup = groups[index]\n",
    "\t\t\t\t(x, y) = position(row, col)\n",
    "    \n",
    "    # return the SVGElements, the circles sizes and the background sizes\n",
    "\n",
    "# returns the top left corner of where a group will be displayed\n",
    "def position(row, col):\n",
    "    return (0,0)"
   ]
  },
  {
   "cell_type": "markdown",
   "metadata": {},
   "source": [
    "After positioning a group, a *BoxLayoutManager* is assigned in order to position the Boxes (aka Stocks) in a group. Here Flow positions can be handled by creating a *FlowLayoutManager* and using the *placement* variable in the *StockGroup* class."
   ]
  },
  {
   "cell_type": "markdown",
   "metadata": {},
   "source": [
    "### Change the BoxLayoutManager\n",
    "The *BoxLayoutManager* is responsible for positioning the Boxes (aka Stocks) on the canvas and building *SVGElement* objects that can be drawn. <br/>\n",
    "\n",
    "The *BoxLayoutManager* can be found in **BoxLayoutManager.py** <br/>\n",
    "\n",
    "The *layout* function works similarly to the one in the *GroupLayoutManager*\n",
    "* A background circle is included\n",
    "* Each box is given a *Square*\n",
    "* Each box is assigned an *EntityLayoutManager* to layout the circles (entities)\n",
    "* Return the *SVGElement* objects, the size of the entities and the size of the background"
   ]
  },
  {
   "cell_type": "markdown",
   "metadata": {},
   "source": [
    "### Create a SVGElement subclass\n",
    "\n",
    "The *SVGElement* class is an abstract class that can easily create SVG elements to be included in HTML pages. The code can be found in **SVGElement.py** <br/>\n",
    "\n",
    "*SVGElement* requires:\n",
    "* a unique id \n",
    "* a tag label (ex. rect, circle, line, etc.)\n",
    "* a class (box, entity, flow, etc)\n",
    "\n",
    "** Any Attribute that SVGElement or a sub-class has will be included in the Tag ** <br/>\n",
    "\n",
    "This means that all attributes of these classes must have names corresponding to the names that they have in the tag. <br/>\n",
    "\n",
    "Ex. width, height, r, cx, x, etc"
   ]
  },
  {
   "cell_type": "code",
   "execution_count": null,
   "metadata": {
    "collapsed": true
   },
   "outputs": [],
   "source": [
    "import SVGElement from SVGElement\n",
    "\n",
    "class TestElement(SVGElement):\n",
    "\tdef __init__(self, id_name, class_name, foo, bar):\n",
    "\t\tSVGElement.__init__(self, id_name, \"test\", class_name)\n",
    "\t\tself.foo = foo\n",
    "\t\tself.bar = bar\n",
    "       \n",
    "    # override to include sub-tags\n",
    "\tdef subText(self):\n",
    "\t\treturn []\n",
    "\n",
    "TestElement('test_id', 'test_class', 3, 'bar_value').text()"
   ]
  }
 ],
 "metadata": {
  "kernelspec": {
   "display_name": "Python 3",
   "language": "python",
   "name": "python3"
  },
  "language_info": {
   "codemirror_mode": {
    "name": "ipython",
    "version": 3
   },
   "file_extension": ".py",
   "mimetype": "text/x-python",
   "name": "python",
   "nbconvert_exporter": "python",
   "pygments_lexer": "ipython3",
   "version": "3.6.0"
  }
 },
 "nbformat": 4,
 "nbformat_minor": 2
}

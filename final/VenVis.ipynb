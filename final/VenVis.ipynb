{
 "cells": [
  {
   "cell_type": "markdown",
   "metadata": {},
   "source": [
    "# VenVis\n",
    "\n",
    "Developed for the EPA 1341 - System Dynamics Course.\n",
    "\n",
    "VenVis allows for better communication of your Vensim Model to your clients; it shows structure and behaviour using graphics that your client understands.\n",
    "\n",
    "Venvis works in the following manner:\n",
    "1. Initialisation\n",
    "2. Model Parsing (based largely on the PySD parser)\n",
    "3. Model Running (using PySD)\n",
    "4. SVG Element Building\n",
    "5. HTML and CSS writing\n",
    "6. Animation Data creation (from model run data)\n",
    "7. Animation Data written to JS files\n",
    "8. Execution of the Visualisation\n",
    "\n",
    "The following python files need to be present in order to run VenVis:\n",
    "* AnimationBuilder.py\n",
    "* AnimationData.py\n",
    "* Box.py\n",
    "* BoxLayoutManager.py\n",
    "* ComponentParser.py\n",
    "* ElementParser.py\n",
    "* ElementProvider.py\n",
    "* EntityLayoutManager.py\n",
    "* FileParser.py\n",
    "* FlowLayoutManager.py\n",
    "* GroupDrawer.py\n",
    "* LibraryManager.py\n",
    "* ModelObjects.py\n",
    "* ModelParser.py\n",
    "* ModelRunner.py\n",
    "* PageBuilder.py\n",
    "* StockGroup.py\n",
    "* Styler.py\n",
    "* SVGElement.py\n",
    "* VenVis.py\n",
    "* VisualisationSettings.py\n",
    "\n",
    "The following resource files must also be present:\n",
    "* images/pause.png\n",
    "* images/play.png\n",
    "* images/replay.png\n",
    "* images/stop.png\n",
    "* images/venvis.png"
   ]
  },
  {
   "cell_type": "markdown",
   "metadata": {},
   "source": [
    "## Initialisation\n",
    "\n",
    "The first time that VenVis is run, you should run the cell below. A check is performed if the correct libraries are present and the default animation script is loaded."
   ]
  },
  {
   "cell_type": "code",
   "execution_count": 1,
   "metadata": {
    "collapsed": false
   },
   "outputs": [],
   "source": [
    "from LibraryManager import LibraryManager\n",
    "from AnimationBuilder import AnimationBuilder\n",
    "\n",
    "LibraryManager().checkDependencies()\n",
    "AnimationBuilder().build()"
   ]
  },
  {
   "cell_type": "markdown",
   "metadata": {},
   "source": [
    "## Settings\n",
    "\n",
    "This visualiser runs a model and animates the behaviour over time using boxes and balls.\n",
    "\n",
    "The following settings can be changed in the **Settings** class:\n",
    "* Width - width of the output screen\n",
    "* Height - height of the output screen\n",
    "* Ball rows - the number of rows of balls to display\n",
    "* Ball cols - the number of cols of balls to display"
   ]
  },
  {
   "cell_type": "code",
   "execution_count": 2,
   "metadata": {
    "collapsed": false
   },
   "outputs": [],
   "source": [
    "from VisualisationSettings import Settings\n",
    "width = 1000\n",
    "height = 500\n",
    "ball_rows = 3\n",
    "ball_cols = 3\n",
    "\n",
    "settings = Settings(width, height, ball_rows, ball_cols)"
   ]
  },
  {
   "cell_type": "markdown",
   "metadata": {},
   "source": [
    "## Images\n",
    "This visualisation supports custom images for the entities. Each unit (person, dollar, etc) can be assigned an image in the cell below"
   ]
  },
  {
   "cell_type": "code",
   "execution_count": 3,
   "metadata": {
    "collapsed": true
   },
   "outputs": [],
   "source": [
    "images = {\n",
    "    'person': 'professor.png',\n",
    "    'euro': 'euro.png'\n",
    "}\n",
    "\n",
    "backgrounds = {\n",
    "    'person': 'hiring.jpg',\n",
    "    'euro': 'budget.jpg'\n",
    "}"
   ]
  },
  {
   "cell_type": "markdown",
   "metadata": {},
   "source": [
    "## Running the Visualiser\n",
    "The visualiser can be run with the cell directly below."
   ]
  },
  {
   "cell_type": "code",
   "execution_count": 4,
   "metadata": {
    "collapsed": false
   },
   "outputs": [],
   "source": [
    "from VenVis import VenVis\n",
    "name = \"Faculty Hiring\"\n",
    "venvis = VenVis(name, 'testmodel.mdl', settings)\n",
    "venvis.visualise(images, backgrounds)"
   ]
  },
  {
   "cell_type": "markdown",
   "metadata": {},
   "source": [
    "## Adjusting the Animation Run Speed\n",
    "To adjust the run speed, use the following steps \n",
    "1. Change the run_speed value (in the cell below)\n",
    "2. Run all cells below **this** cell\n",
    "\n",
    "**Note**: You do not need to rerun the visualiser to adjust the run speed"
   ]
  },
  {
   "cell_type": "code",
   "execution_count": 5,
   "metadata": {
    "collapsed": true
   },
   "outputs": [],
   "source": [
    "run_speed = 10 # time in ms between each anmation frame\n",
    "venvis.adjustRunSpeed(run_speed)"
   ]
  },
  {
   "cell_type": "markdown",
   "metadata": {},
   "source": [
    "## Viewing\n",
    "The cell below allows for viewing of the output html file inside this notebook. <br/>\n",
    "\n",
    "**Note:** The html file can also be viewed in a regular browser (tested with Chrome and Safari)"
   ]
  },
  {
   "cell_type": "code",
   "execution_count": 6,
   "metadata": {
    "collapsed": false
   },
   "outputs": [
    {
     "data": {
      "text/html": [
       "\n",
       "        <iframe\n",
       "            width=\"1000\"\n",
       "            height=\"500\"\n",
       "            src=\"Faculty Hiring.html\"\n",
       "            frameborder=\"0\"\n",
       "            allowfullscreen\n",
       "        ></iframe>\n",
       "        "
      ],
      "text/plain": [
       "<IPython.lib.display.IFrame at 0x104a78240>"
      ]
     },
     "execution_count": 6,
     "metadata": {},
     "output_type": "execute_result"
    }
   ],
   "source": [
    "from IPython.display import IFrame\n",
    "IFrame('{0}.html'.format(name), width=settings.width, height=settings.height)"
   ]
  }
 ],
 "metadata": {
  "kernelspec": {
   "display_name": "Python 3",
   "language": "python",
   "name": "python3"
  },
  "language_info": {
   "codemirror_mode": {
    "name": "ipython",
    "version": 3
   },
   "file_extension": ".py",
   "mimetype": "text/x-python",
   "name": "python",
   "nbconvert_exporter": "python",
   "pygments_lexer": "ipython3",
   "version": "3.6.0"
  }
 },
 "nbformat": 4,
 "nbformat_minor": 2
}
